{
 "cells": [
  {
   "cell_type": "markdown",
   "id": "00ddb867",
   "metadata": {},
   "source": [
    "# 数据预处理\n",
    "\n",
    "本notebook用于合并和处理摸鱼事务所的视频数据。"
   ]
  },
  {
   "cell_type": "code",
   "execution_count": 17,
   "id": "6f3c04e9",
   "metadata": {},
   "outputs": [],
   "source": [
    "import pandas as pd\n",
    "import os"
   ]
  },
  {
   "cell_type": "markdown",
   "id": "4630bb99",
   "metadata": {},
   "source": [
    "## 1. 读取数据"
   ]
  },
  {
   "cell_type": "code",
   "execution_count": 20,
   "id": "c5788975",
   "metadata": {},
   "outputs": [
    {
     "name": "stdout",
     "output_type": "stream",
     "text": [
      "第一个数据集形状: (453, 4)\n",
      "第二个数据集形状: (453, 11)\n"
     ]
    }
   ],
   "source": [
    "# 读取两个CSV文件\n",
    "df1 = pd.read_csv(\"../data/raw/摸鱼事务所.csv\")\n",
    "df2 = pd.read_csv(\"../data/raw/detail.csv\")\n",
    "\n",
    "print(\"第一个数据集形状:\", df1.shape)\n",
    "print(\"第二个数据集形状:\", df2.shape)"
   ]
  },
  {
   "cell_type": "markdown",
   "id": "4d77204b",
   "metadata": {},
   "source": [
    "## 2. 数据合并"
   ]
  },
  {
   "cell_type": "code",
   "execution_count": 23,
   "id": "c4e28eea",
   "metadata": {},
   "outputs": [
    {
     "name": "stdout",
     "output_type": "stream",
     "text": [
      "合并后的数据集形状: (455, 14)\n"
     ]
    }
   ],
   "source": [
    "# 使用title列作为键合并两个数据集\n",
    "merged_df = pd.merge(df1, df2, on=\"title\", how=\"inner\")\n",
    "\n",
    "print(\"合并后的数据集形状:\", merged_df.shape)"
   ]
  },
  {
   "cell_type": "markdown",
   "id": "ecffb279",
   "metadata": {},
   "source": [
    "## 3. 数据清洗"
   ]
  },
  {
   "cell_type": "code",
   "execution_count": 26,
   "id": "16505309",
   "metadata": {},
   "outputs": [],
   "source": [
    "# 处理播放量数据\n",
    "def convert_play_count(x):\n",
    "    if \"万\" in str(x):\n",
    "        return float(str(x).replace(\"万\", \"\")) * 10000\n",
    "    return float(x)\n",
    "\n",
    "merged_df[\"play_count\"] = merged_df[\"play_count\"].apply(convert_play_count)\n",
    "\n",
    "# 处理时长数据\n",
    "def convert_duration(x):\n",
    "    parts = str(x).split(\":\")\n",
    "    if len(parts) == 2:\n",
    "        return int(parts[0]) * 60 + int(parts[1])\n",
    "    elif len(parts) == 3:\n",
    "        return int(parts[0]) * 3600 + int(parts[1]) * 60 + int(parts[2])\n",
    "    return 0\n",
    "\n",
    "# 处理日期格式\n",
    "def add_year_prefix(date_str):\n",
    "    if len(str(date_str).split(\"-\")) == 2:  # 如果日期格式是 MM-DD\n",
    "        return f\"2025-{date_str}\"\n",
    "    return date_str\n",
    "\n",
    "merged_df[\"date\"] = merged_df[\"date\"].apply(add_year_prefix)\n",
    "\n",
    "merged_df[\"duration_seconds\"] = merged_df[\"duration\"].apply(convert_duration)"
   ]
  },
  {
   "cell_type": "markdown",
   "id": "50da1a1d",
   "metadata": {},
   "source": [
    "## 4. 保存处理后的数据"
   ]
  },
  {
   "cell_type": "code",
   "execution_count": 29,
   "id": "e554d5be",
   "metadata": {},
   "outputs": [
    {
     "name": "stdout",
     "output_type": "stream",
     "text": [
      "数据已保存到 ../data/processed/merged_data.csv\n"
     ]
    }
   ],
   "source": [
    "# 确保processed目录存在\n",
    "os.makedirs(\"../data/processed\", exist_ok=True)\n",
    "\n",
    "# 保存合并后的数据\n",
    "merged_df.to_csv(\"../data/processed/merged_data.csv\", index=False)\n",
    "print(\"数据已保存到 ../data/processed/merged_data.csv\")"
   ]
  },
  {
   "cell_type": "markdown",
   "id": "497f342c",
   "metadata": {},
   "source": [
    "## 5. 数据概览"
   ]
  },
  {
   "cell_type": "code",
   "execution_count": 32,
   "id": "5686d212",
   "metadata": {},
   "outputs": [
    {
     "name": "stdout",
     "output_type": "stream",
     "text": [
      "数据基本信息:\n",
      "<class 'pandas.core.frame.DataFrame'>\n",
      "RangeIndex: 455 entries, 0 to 454\n",
      "Data columns (total 15 columns):\n",
      " #   Column            Non-Null Count  Dtype  \n",
      "---  ------            --------------  -----  \n",
      " 0   title             455 non-null    object \n",
      " 1   play_count        455 non-null    float64\n",
      " 2   date              455 non-null    object \n",
      " 3   duration          455 non-null    object \n",
      " 4   tname             455 non-null    object \n",
      " 5   tname_v2          455 non-null    object \n",
      " 6   view              455 non-null    int64  \n",
      " 7   reply             455 non-null    int64  \n",
      " 8   favorite          455 non-null    int64  \n",
      " 9   coin              455 non-null    int64  \n",
      " 10  share             455 non-null    int64  \n",
      " 11  like              455 non-null    int64  \n",
      " 12  dislike           455 non-null    int64  \n",
      " 13  tags              455 non-null    object \n",
      " 14  duration_seconds  455 non-null    int64  \n",
      "dtypes: float64(1), int64(8), object(6)\n",
      "memory usage: 53.4+ KB\n",
      "None\n",
      "数据统计摘要:\n",
      "         play_count          view         reply       favorite           coin  \\\n",
      "count  4.550000e+02  4.550000e+02    455.000000     455.000000     455.000000   \n",
      "mean   8.355495e+05  8.355667e+05   1200.650549    5567.151648   16572.186813   \n",
      "std    6.082459e+05  6.082434e+05   1307.392397    8981.047772   29980.823279   \n",
      "min    6.500000e+04  6.530100e+04     42.000000     139.000000     423.000000   \n",
      "25%    4.080000e+05  4.084205e+05    381.000000    1419.000000    3734.000000   \n",
      "50%    7.000000e+05  7.001530e+05    912.000000    3198.000000    8347.000000   \n",
      "75%    1.143000e+06  1.143398e+06   1639.500000    7796.000000   22388.000000   \n",
      "max    4.642000e+06  4.642384e+06  13793.000000  129670.000000  430385.000000   \n",
      "\n",
      "              share           like  dislike  duration_seconds  \n",
      "count    455.000000     455.000000    455.0        455.000000  \n",
      "mean    3057.281319   45389.714286      0.0        819.375824  \n",
      "std     5117.781066   37546.281398      0.0        699.733811  \n",
      "min       25.000000    2088.000000      0.0         56.000000  \n",
      "25%      560.500000   17874.000000      0.0        330.000000  \n",
      "50%     1351.000000   37678.000000      0.0        588.000000  \n",
      "75%     3315.000000   65992.000000      0.0       1163.500000  \n",
      "max    44796.000000  303884.000000      0.0       6702.000000  \n"
     ]
    }
   ],
   "source": [
    "# 显示数据基本信息\n",
    "print(\"数据基本信息:\")\n",
    "print(merged_df.info())\n",
    "\n",
    "# 显示数据统计摘要\n",
    "print(\"数据统计摘要:\")\n",
    "print(merged_df.describe())"
   ]
  },
  {
   "cell_type": "code",
   "execution_count": null,
   "id": "c840d50b-8510-48ca-b309-33595a3400f9",
   "metadata": {},
   "outputs": [],
   "source": []
  },
  {
   "cell_type": "code",
   "execution_count": null,
   "id": "a07e1da6-c938-4a05-b7dc-27e94f07ae93",
   "metadata": {},
   "outputs": [],
   "source": []
  }
 ],
 "metadata": {
  "kernelspec": {
   "display_name": "Python 3 (ipykernel)",
   "language": "python",
   "name": "python3"
  },
  "language_info": {
   "codemirror_mode": {
    "name": "ipython",
    "version": 3
   },
   "file_extension": ".py",
   "mimetype": "text/x-python",
   "name": "python",
   "nbconvert_exporter": "python",
   "pygments_lexer": "ipython3",
   "version": "3.12.4"
  }
 },
 "nbformat": 4,
 "nbformat_minor": 5
}
